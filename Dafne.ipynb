{
 "cells": [
  {
   "cell_type": "code",
   "execution_count": 2,
   "id": "e1c48fb2-1e55-44e9-bb0a-08ee634d550b",
   "metadata": {},
   "outputs": [],
   "source": [
    "import tiffile as tf\n",
    "from skimage.measure import regionprops_table\n",
    "from napari import Viewer\n",
    "import pandas as pd"
   ]
  },
  {
   "cell_type": "code",
   "execution_count": 3,
   "id": "73acce40-7537-44eb-b2c6-c076020021f0",
   "metadata": {},
   "outputs": [],
   "source": [
    "data = tf.imread(\"/home/aaristov/Downloads/Dafne.tif\")"
   ]
  },
  {
   "cell_type": "code",
   "execution_count": 4,
   "id": "84a9c341-66af-4c5e-990d-ddb06a860478",
   "metadata": {},
   "outputs": [
    {
     "data": {
      "text/plain": [
       "(9, 4, 1024, 1024)"
      ]
     },
     "execution_count": 4,
     "metadata": {},
     "output_type": "execute_result"
    }
   ],
   "source": [
    "data.shape"
   ]
  },
  {
   "cell_type": "code",
   "execution_count": 5,
   "id": "9670c8c0-ba33-479d-8277-d75c5c2b367d",
   "metadata": {},
   "outputs": [],
   "source": [
    "red, green, dapi, labels = [data[:,i] for i in range(4)]"
   ]
  },
  {
   "cell_type": "code",
   "execution_count": 6,
   "id": "3a147d5e-e897-4bc6-bfad-cf911b0141dc",
   "metadata": {},
   "outputs": [],
   "source": [
    "red_props = pd.DataFrame(regionprops_table(labels, intensity_image=red,properties=[\"bbox\",\"label\",\"mean_intensity\", ]))\n",
    "red_props = red_props.rename(columns={\"mean_intensity\": \"red_intensity\"})\n",
    "green_props = pd.DataFrame(regionprops_table(labels, intensity_image=green, properties=[\"mean_intensity\", ]))\n",
    "green_props = green_props.rename(columns={\"mean_intensity\": \"green_intensity\"})\n"
   ]
  },
  {
   "cell_type": "code",
   "execution_count": 7,
   "id": "2dec4258-4618-4b76-821c-bf56f0218a19",
   "metadata": {},
   "outputs": [],
   "source": [
    "data_props = pd.concat([red_props, green_props], axis=1)"
   ]
  },
  {
   "cell_type": "code",
   "execution_count": 8,
   "id": "07495050-b1b1-4535-a40a-e26032f1440d",
   "metadata": {},
   "outputs": [
    {
     "data": {
      "text/html": [
       "<div>\n",
       "<style scoped>\n",
       "    .dataframe tbody tr th:only-of-type {\n",
       "        vertical-align: middle;\n",
       "    }\n",
       "\n",
       "    .dataframe tbody tr th {\n",
       "        vertical-align: top;\n",
       "    }\n",
       "\n",
       "    .dataframe thead th {\n",
       "        text-align: right;\n",
       "    }\n",
       "</style>\n",
       "<table border=\"1\" class=\"dataframe\">\n",
       "  <thead>\n",
       "    <tr style=\"text-align: right;\">\n",
       "      <th></th>\n",
       "      <th>bbox-0</th>\n",
       "      <th>bbox-1</th>\n",
       "      <th>bbox-2</th>\n",
       "      <th>bbox-3</th>\n",
       "      <th>bbox-4</th>\n",
       "      <th>bbox-5</th>\n",
       "      <th>label</th>\n",
       "      <th>red_intensity</th>\n",
       "      <th>green_intensity</th>\n",
       "    </tr>\n",
       "  </thead>\n",
       "  <tbody>\n",
       "    <tr>\n",
       "      <th>0</th>\n",
       "      <td>1</td>\n",
       "      <td>235</td>\n",
       "      <td>692</td>\n",
       "      <td>3</td>\n",
       "      <td>247</td>\n",
       "      <td>723</td>\n",
       "      <td>201</td>\n",
       "      <td>386.708583</td>\n",
       "      <td>399.249501</td>\n",
       "    </tr>\n",
       "    <tr>\n",
       "      <th>1</th>\n",
       "      <td>0</td>\n",
       "      <td>0</td>\n",
       "      <td>913</td>\n",
       "      <td>4</td>\n",
       "      <td>15</td>\n",
       "      <td>934</td>\n",
       "      <td>402</td>\n",
       "      <td>364.426290</td>\n",
       "      <td>353.884521</td>\n",
       "    </tr>\n",
       "    <tr>\n",
       "      <th>2</th>\n",
       "      <td>0</td>\n",
       "      <td>0</td>\n",
       "      <td>966</td>\n",
       "      <td>4</td>\n",
       "      <td>9</td>\n",
       "      <td>984</td>\n",
       "      <td>603</td>\n",
       "      <td>541.961456</td>\n",
       "      <td>647.254818</td>\n",
       "    </tr>\n",
       "    <tr>\n",
       "      <th>3</th>\n",
       "      <td>0</td>\n",
       "      <td>0</td>\n",
       "      <td>987</td>\n",
       "      <td>7</td>\n",
       "      <td>12</td>\n",
       "      <td>1007</td>\n",
       "      <td>804</td>\n",
       "      <td>567.301115</td>\n",
       "      <td>922.470260</td>\n",
       "    </tr>\n",
       "    <tr>\n",
       "      <th>4</th>\n",
       "      <td>0</td>\n",
       "      <td>0</td>\n",
       "      <td>1018</td>\n",
       "      <td>3</td>\n",
       "      <td>13</td>\n",
       "      <td>1024</td>\n",
       "      <td>1005</td>\n",
       "      <td>489.918605</td>\n",
       "      <td>1023.302326</td>\n",
       "    </tr>\n",
       "    <tr>\n",
       "      <th>...</th>\n",
       "      <td>...</td>\n",
       "      <td>...</td>\n",
       "      <td>...</td>\n",
       "      <td>...</td>\n",
       "      <td>...</td>\n",
       "      <td>...</td>\n",
       "      <td>...</td>\n",
       "      <td>...</td>\n",
       "      <td>...</td>\n",
       "    </tr>\n",
       "    <tr>\n",
       "      <th>321</th>\n",
       "      <td>0</td>\n",
       "      <td>955</td>\n",
       "      <td>995</td>\n",
       "      <td>9</td>\n",
       "      <td>971</td>\n",
       "      <td>1014</td>\n",
       "      <td>64731</td>\n",
       "      <td>387.286293</td>\n",
       "      <td>93.189737</td>\n",
       "    </tr>\n",
       "    <tr>\n",
       "      <th>322</th>\n",
       "      <td>7</td>\n",
       "      <td>834</td>\n",
       "      <td>650</td>\n",
       "      <td>9</td>\n",
       "      <td>854</td>\n",
       "      <td>665</td>\n",
       "      <td>64932</td>\n",
       "      <td>378.720745</td>\n",
       "      <td>463.425532</td>\n",
       "    </tr>\n",
       "    <tr>\n",
       "      <th>323</th>\n",
       "      <td>0</td>\n",
       "      <td>1009</td>\n",
       "      <td>373</td>\n",
       "      <td>2</td>\n",
       "      <td>1024</td>\n",
       "      <td>386</td>\n",
       "      <td>65133</td>\n",
       "      <td>146.758621</td>\n",
       "      <td>26.189655</td>\n",
       "    </tr>\n",
       "    <tr>\n",
       "      <th>324</th>\n",
       "      <td>4</td>\n",
       "      <td>316</td>\n",
       "      <td>966</td>\n",
       "      <td>9</td>\n",
       "      <td>331</td>\n",
       "      <td>983</td>\n",
       "      <td>65334</td>\n",
       "      <td>663.090078</td>\n",
       "      <td>1232.248042</td>\n",
       "    </tr>\n",
       "    <tr>\n",
       "      <th>325</th>\n",
       "      <td>0</td>\n",
       "      <td>0</td>\n",
       "      <td>220</td>\n",
       "      <td>9</td>\n",
       "      <td>1024</td>\n",
       "      <td>990</td>\n",
       "      <td>65535</td>\n",
       "      <td>551.811871</td>\n",
       "      <td>562.475469</td>\n",
       "    </tr>\n",
       "  </tbody>\n",
       "</table>\n",
       "<p>326 rows × 9 columns</p>\n",
       "</div>"
      ],
      "text/plain": [
       "     bbox-0  bbox-1  bbox-2  bbox-3  bbox-4  bbox-5  label  red_intensity  \\\n",
       "0         1     235     692       3     247     723    201     386.708583   \n",
       "1         0       0     913       4      15     934    402     364.426290   \n",
       "2         0       0     966       4       9     984    603     541.961456   \n",
       "3         0       0     987       7      12    1007    804     567.301115   \n",
       "4         0       0    1018       3      13    1024   1005     489.918605   \n",
       "..      ...     ...     ...     ...     ...     ...    ...            ...   \n",
       "321       0     955     995       9     971    1014  64731     387.286293   \n",
       "322       7     834     650       9     854     665  64932     378.720745   \n",
       "323       0    1009     373       2    1024     386  65133     146.758621   \n",
       "324       4     316     966       9     331     983  65334     663.090078   \n",
       "325       0       0     220       9    1024     990  65535     551.811871   \n",
       "\n",
       "     green_intensity  \n",
       "0         399.249501  \n",
       "1         353.884521  \n",
       "2         647.254818  \n",
       "3         922.470260  \n",
       "4        1023.302326  \n",
       "..               ...  \n",
       "321        93.189737  \n",
       "322       463.425532  \n",
       "323        26.189655  \n",
       "324      1232.248042  \n",
       "325       562.475469  \n",
       "\n",
       "[326 rows x 9 columns]"
      ]
     },
     "execution_count": 8,
     "metadata": {},
     "output_type": "execute_result"
    }
   ],
   "source": [
    "data_props"
   ]
  },
  {
   "cell_type": "code",
   "execution_count": 9,
   "id": "8b7759df-bb4e-4d30-99f5-9ed487121079",
   "metadata": {},
   "outputs": [
    {
     "data": {
      "text/plain": [
       "<AxesSubplot:xlabel='red_intensity', ylabel='green_intensity'>"
      ]
     },
     "execution_count": 9,
     "metadata": {},
     "output_type": "execute_result"
    },
    {
     "data": {
      "image/png": "[encoded data removed]",
      "text/plain": [
       "<Figure size 432x288 with 1 Axes>"
      ]
     },
     "metadata": {
      "needs_background": "light"
     },
     "output_type": "display_data"
    }
   ],
   "source": [
    "data_props.plot(x=\"red_intensity\", y=\"green_intensity\", kind=\"scatter\")"
   ]
  },
  {
   "cell_type": "code",
   "execution_count": 10,
   "id": "3c14f684-6b03-4137-959a-9f68be71b40a",
   "metadata": {},
   "outputs": [
    {
     "data": {
      "text/plain": [
       "array([[<AxesSubplot:title={'center':'red_intensity'}>]], dtype=object)"
      ]
     },
     "execution_count": 10,
     "metadata": {},
     "output_type": "execute_result"
    },
    {
     "data": {
      "image/png": "[encoded data removed]",
      "text/plain": [
       "<Figure size 432x288 with 1 Axes>"
      ]
     },
     "metadata": {
      "needs_background": "light"
     },
     "output_type": "display_data"
    }
   ],
   "source": [
    "data_props.hist(column=\"red_intensity\")"
   ]
  },
  {
   "cell_type": "code",
   "execution_count": 11,
   "id": "4e0ea417-bdb3-4bcd-91ac-28999f0dc28d",
   "metadata": {},
   "outputs": [
    {
     "data": {
      "text/plain": [
       "array([[<AxesSubplot:title={'center':'green_intensity'}>]], dtype=object)"
      ]
     },
     "execution_count": 11,
     "metadata": {},
     "output_type": "execute_result"
    },
    {
     "data": {
      "image/png": "[encoded data removed]",
      "text/plain": [
       "<Figure size 432x288 with 1 Axes>"
      ]
     },
     "metadata": {
      "needs_background": "light"
     },
     "output_type": "display_data"
    }
   ],
   "source": [
    "data_props.hist(column=\"green_intensity\")"
   ]
  },
  {
   "cell_type": "code",
   "execution_count": 12,
   "id": "87be7749-896d-42bd-a316-26d3934c44a8",
   "metadata": {},
   "outputs": [
    {
     "name": "stderr",
     "output_type": "stream",
     "text": [
      "/home/aaristov/miniconda3/envs/griottes/lib/python3.9/site-packages/napari_tools_menu/__init__.py:168: FutureWarning: Public access to Window.qt_viewer is deprecated and will be removed in\n",
      "v0.5.0. It is considered an \"implementation detail\" of the napari\n",
      "application, not part of the napari viewer model. If your use case\n",
      "requires access to qt_viewer, please open an issue to discuss.\n",
      "  self.tools_menu = ToolsMenu(self, self.qt_viewer.viewer)\n"
     ]
    }
   ],
   "source": [
    "v = Viewer()"
   ]
  },
  {
   "cell_type": "code",
   "execution_count": 14,
   "id": "aa507530-10c9-4cc5-b7b6-1e52916c4f5b",
   "metadata": {},
   "outputs": [
    {
     "data": {
      "text/plain": [
       "[<Image layer 'red' at 0x7f027b953550>,\n",
       " <Image layer 'green' at 0x7f02cae97700>,\n",
       " <Image layer 'dapi' at 0x7f027a9f3eb0>,\n",
       " <Image layer 'labels' at 0x7f027a711e20>]"
      ]
     },
     "execution_count": 14,
     "metadata": {},
     "output_type": "execute_result"
    }
   ],
   "source": [
    "v.add_image(\n",
    "    data, \n",
    "    channel_axis=1, \n",
    "    name=[\"red\",\"green\",\"dapi\",\"labels\"],\n",
    "    colormap=[\"red\",\"green\",\"blue\",\"gray\"]\n",
    ")"
   ]
  },
  {
   "cell_type": "code",
   "execution_count": null,
   "id": "9d7b48d9-2d59-45da-bb04-057f82c182c9",
   "metadata": {},
   "outputs": [],
   "source": []
  }
 ],
 "metadata": {
  "kernelspec": {
   "display_name": "Python 3.9.7 ('griottes')",
   "language": "python",
   "name": "python3"
  },
  "language_info": {
   "codemirror_mode": {
    "name": "ipython",
    "version": 3
   },
   "file_extension": ".py",
   "mimetype": "text/x-python",
   "name": "python",
   "nbconvert_exporter": "python",
   "pygments_lexer": "ipython3",
   "version": "3.9.7"
  },
  "vscode": {
   "interpreter": {
    "hash": "beb0e253dc737fd5c85705ca7387ae78410c28b2d63c715069c1ec0b3a637f3e"
   }
  }
 },
 "nbformat": 4,
 "nbformat_minor": 5
}
